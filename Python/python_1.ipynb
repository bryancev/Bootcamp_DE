{
  "cells": [
    {
      "cell_type": "markdown",
      "metadata": {
        "colab_type": "text",
        "id": "view-in-github"
      },
      "source": [
        "<a href=\"https://colab.research.google.com/github/bryancev/Bootcamp_DE/blob/main/python_1.ipynb\" target=\"_parent\"><img src=\"https://colab.research.google.com/assets/colab-badge.svg\" alt=\"Open In Colab\"/></a>"
      ]
    },
    {
      "cell_type": "markdown",
      "metadata": {},
      "source": [
        "Задание 1 Проверка валидности пароля\n",
        "\n",
        "Напиши условие, которое проверяет пароль по следующим условиям:\n",
        "\n",
        "- Длина от 8 до 20 символов;\n",
        "- Есть хотя бы одна буква;\n",
        "- Есть хотя бы одна цифра;\n",
        "- Не начинается с цифры;\n",
        "- Нет пробелов."
      ]
    },
    {
      "cell_type": "code",
      "execution_count": 4,
      "metadata": {},
      "outputs": [],
      "source": [
        "def check_password(passw):\n",
        "    check = (\n",
        "        len(passw) >= 8 and\n",
        "        len(passw) <= 20 and\n",
        "        any(c.isalpha() for c in passw) and\n",
        "        any(c.isdigit() for c in passw) and\n",
        "        not passw[0].isdigit() and\n",
        "        ' ' not in passw\n",
        "    )\n",
        "\n",
        "    print('Пароль валиден' if check else 'Пароль невалиден')"
      ]
    },
    {
      "cell_type": "code",
      "execution_count": 5,
      "metadata": {
        "id": "Qv1_Gz8AEDky"
      },
      "outputs": [
        {
          "name": "stdout",
          "output_type": "stream",
          "text": [
            "Пароль валиден\n",
            "Пароль невалиден\n",
            "Пароль валиден\n",
            "Пароль невалиден\n",
            "Пароль невалиден\n",
            "Пароль невалиден\n",
            "Пароль невалиден\n"
          ]
        }
      ],
      "source": [
        "passwords = [\"Fk2r4snrU#\", \"12345\", \"Password1\", \"1Password\", \"Pass 123\", \"Short1\", \"VeryLongPassword1234567890\"]\n",
        "\n",
        "for password in passwords:\n",
        "    check_password(password)"
      ]
    },
    {
      "cell_type": "markdown",
      "metadata": {},
      "source": [
        "Задание 2 Найти слова, начинающиеся или заканчивающиеся на букву. Вывести список этих слов."
      ]
    },
    {
      "cell_type": "code",
      "execution_count": 20,
      "metadata": {
        "id": "sO82f9WLEN-P"
      },
      "outputs": [
        {
          "name": "stdout",
          "output_type": "stream",
          "text": [
            "['Анна', 'купила', 'арбуз,', 'а', 'абрикос']\n"
          ]
        }
      ],
      "source": [
        "text = \"Анна купила арбуз, а потом абрикос и банан\"\n",
        "letter = \"а\"\n",
        "\n",
        "# Удаляем запятые и другие знаки препинания\n",
        "punctuation = ',.!?;:\"\\''\n",
        "result = []\n",
        "\n",
        "for word in text.split():\n",
        "    for symb in punctuation:\n",
        "        clean_word = word.replace(symb, '')  # Удаляем каждый знак препинания\n",
        "    \n",
        "    if (clean_word.lower().startswith(letter) or clean_word.lower().endswith(letter)):\n",
        "        result.append(word)\n",
        "\n",
        "print(result)"
      ]
    },
    {
      "cell_type": "markdown",
      "metadata": {},
      "source": [
        "Задание 3 Разделение чётных и нечётных чисел. Вывести четные числа и нечетные числа без дубликатов"
      ]
    },
    {
      "cell_type": "code",
      "execution_count": 21,
      "metadata": {
        "id": "u8A9OS4THSRX"
      },
      "outputs": [
        {
          "name": "stdout",
          "output_type": "stream",
          "text": [
            "Чётные: {8, 2, 4, 6}\n",
            "Нечётные: {1, 3, 5, 11, 13}\n"
          ]
        }
      ],
      "source": [
        "nums = [1, 2, 3, 4, 5, 6, 2, 8, 3, 11, 1, 13, 5]\n",
        "\n",
        "even_set = {num for num in nums if num % 2 == 0}    # Чётные\n",
        "odd_set = {num for num in nums if num % 2 != 0}     # Нечётные\n",
        "\n",
        "print(\"Чётные:\", even_set)\n",
        "print(\"Нечётные:\", odd_set)"
      ]
    },
    {
      "cell_type": "markdown",
      "metadata": {},
      "source": [
        "Задание 4. Вывести все имена людей, у кого возраст больше 18 лет в формате списка"
      ]
    },
    {
      "cell_type": "code",
      "execution_count": 24,
      "metadata": {
        "id": "mDFXE27_IfcL"
      },
      "outputs": [
        {
          "name": "stdout",
          "output_type": "stream",
          "text": [
            "Взрослые: ['Аня', 'Вика']\n"
          ]
        }
      ],
      "source": [
        "people = [(\"Аня\", 20), (\"Борис\", 17), (\"Вика\", 25), (\"Глеб\", 15)]\n",
        "\n",
        "adults = [name for name, age in people if age > 18]\n",
        "\n",
        "print(\"Взрослые:\", adults)"
      ]
    }
  ],
  "metadata": {
    "colab": {
      "include_colab_link": true,
      "provenance": []
    },
    "kernelspec": {
      "display_name": "Python 3",
      "name": "python3"
    },
    "language_info": {
      "codemirror_mode": {
        "name": "ipython",
        "version": 3
      },
      "file_extension": ".py",
      "mimetype": "text/x-python",
      "name": "python",
      "nbconvert_exporter": "python",
      "pygments_lexer": "ipython3",
      "version": "3.11.0"
    }
  },
  "nbformat": 4,
  "nbformat_minor": 0
}
