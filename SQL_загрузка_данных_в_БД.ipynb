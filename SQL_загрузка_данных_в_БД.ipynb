{
  "nbformat": 4,
  "nbformat_minor": 0,
  "metadata": {
    "colab": {
      "provenance": [],
      "include_colab_link": true
    },
    "kernelspec": {
      "name": "python3",
      "display_name": "Python 3"
    },
    "language_info": {
      "name": "python"
    }
  },
  "cells": [
    {
      "cell_type": "markdown",
      "metadata": {
        "id": "view-in-github",
        "colab_type": "text"
      },
      "source": [
        "<a href=\"https://colab.research.google.com/github/bryancev/Bootcamp_DE/blob/main/SQL_%D0%B7%D0%B0%D0%B3%D1%80%D1%83%D0%B7%D0%BA%D0%B0_%D0%B4%D0%B0%D0%BD%D0%BD%D1%8B%D1%85_%D0%B2_%D0%91%D0%94.ipynb\" target=\"_parent\"><img src=\"https://colab.research.google.com/assets/colab-badge.svg\" alt=\"Open In Colab\"/></a>"
      ]
    },
    {
      "cell_type": "markdown",
      "source": [
        "# Настройка подключения к БД"
      ],
      "metadata": {
        "id": "Ags36A5Cn9Ul"
      }
    },
    {
      "cell_type": "code",
      "source": [
        "import pandas as pd\n",
        "import psycopg2\n",
        "from psycopg2.extras import RealDictCursor\n",
        "pd.set_option('display.max_columns', None)"
      ],
      "metadata": {
        "id": "mcMFyrx8nhoW"
      },
      "execution_count": 47,
      "outputs": []
    },
    {
      "cell_type": "code",
      "source": [
        "# Параметры подключения к БД\n",
        "\n",
        "conn_info = {\n",
        "    'dbname': 'dev',\n",
        "    'user': 'bootcamp',\n",
        "    'password': '1q2w3e4r',\n",
        "    'host': 'ru.tuna.am',\n",
        "    'port': 35663,\n",
        "    'options': '-c client_encoding=utf8', # Принудительная установка кодировки\n",
        "    'client_encoding': 'utf8'\n",
        "}"
      ],
      "metadata": {
        "id": "xJ6qUyrZoFjF"
      },
      "execution_count": 48,
      "outputs": []
    },
    {
      "cell_type": "code",
      "source": [
        "class Postgres:\n",
        "    # Простая обёртка для работы с PostgreSQL через psycopg2\n",
        "    def __init__(self, config):\n",
        "        \"\"\"\n",
        "        Инициализация подключения к базе.\n",
        "        :param config: словарь с параметрами подключения\n",
        "        \"\"\"\n",
        "        try:\n",
        "            self._conn = psycopg2.connect(**config)\n",
        "            self._conn.set_client_encoding('UTF8')  # кодировка UTF-8\n",
        "        except Exception as e:\n",
        "            print(\"Ошибка подключения:\", e)\n",
        "            raise\n",
        "\n",
        "    def execute(self, query, params=None):\n",
        "        \"\"\"\n",
        "        Выполнить запрос без возврата данных (INSERT/UPDATE/DELETE).\n",
        "        :param query: SQL-запрос\n",
        "        :param params: кортеж или список параметров\n",
        "        \"\"\"\n",
        "        with self._conn.cursor() as cur:\n",
        "            cur.execute(query, params)\n",
        "        self._conn.commit()  # зафиксировать изменения\n",
        "\n",
        "    def fetchall(self, query, params=None):\n",
        "        \"\"\"\n",
        "        Выполнить SELECT и вернуть все строки.\n",
        "        :param query: SQL-запрос\n",
        "        :param params: кортеж или список параметров\n",
        "        :return: список словарей (RealDictCursor)\n",
        "        \"\"\"\n",
        "        with self._conn.cursor(cursor_factory=RealDictCursor) as cur:\n",
        "            cur.execute(query, params)\n",
        "            return cur.fetchall()\n",
        "\n",
        "    def close(self):\n",
        "        \"\"\"\n",
        "        Закрыть подключение к базе.\n",
        "        \"\"\"\n",
        "        self._conn.close()"
      ],
      "metadata": {
        "id": "rLC6BaAUoFll"
      },
      "execution_count": 49,
      "outputs": []
    },
    {
      "cell_type": "code",
      "source": [
        "def SELECT(sql, config, params=None):\n",
        "    \"\"\"\n",
        "    Выполнить SELECT-запрос и вернуть результат в виде DataFrame.\n",
        "    :param sql: SQL-запрос\n",
        "    :param config: словарь с параметрами подключения\n",
        "    :param params: кортеж или список параметров (по умолчанию None)\n",
        "    :return: pandas.DataFrame с данными\n",
        "    \"\"\"\n",
        "    conn = Postgres(config)\n",
        "    try:\n",
        "        rows = conn.fetchall(sql, params)\n",
        "        df = pd.DataFrame(rows)\n",
        "    finally:\n",
        "        conn.close()\n",
        "    return df"
      ],
      "metadata": {
        "id": "KdQFAKG8oFoF"
      },
      "execution_count": 50,
      "outputs": []
    },
    {
      "cell_type": "code",
      "source": [
        "def EXECUTE(sql, config, params=None, autocommit=False):\n",
        "    \"\"\"\n",
        "    Выполняет SQL-запросы с поддержкой многострочных команд (например, процедур).\n",
        "\n",
        "    :param sql: SQL-запрос или набор запросов\n",
        "    :param config: Конфигурация подключения к БД\n",
        "    :param params: Параметры для запроса (опционально)\n",
        "    :param autocommit: Если True, выполняет команды вне транзакции (для DDL-команд)\n",
        "    \"\"\"\n",
        "    conn = Postgres(config)\n",
        "    conn._conn.autocommit = autocommit\n",
        "\n",
        "    try:\n",
        "        if '$$' in sql:\n",
        "            conn.execute(sql, params)\n",
        "            print(\"Успешно выполнена процедура/функция.\")\n",
        "        else:\n",
        "            statements = [stmt.strip() for stmt in sql.split(';') if stmt.strip()]\n",
        "            for idx, statement in enumerate(statements, start=1):\n",
        "                conn.execute(statement, params)\n",
        "                print(f\"Успешно выполнена команда {idx}: {statement[:60]}...\")\n",
        "    except Exception as e:\n",
        "        print(f\"Ошибка выполнения SQL: {e}\")\n",
        "        raise\n",
        "    finally:\n",
        "        conn.close()\n"
      ],
      "metadata": {
        "id": "u-a1B_4doFqs"
      },
      "execution_count": 51,
      "outputs": []
    },
    {
      "cell_type": "markdown",
      "source": [
        "# Создание схем и таблиц"
      ],
      "metadata": {
        "id": "Gg7t7p_oo_Sk"
      }
    },
    {
      "cell_type": "code",
      "source": [
        "# Создание схемы внутри хранилища\n",
        "\n",
        "create_schema = \"\"\"\n",
        "    DROP SCHEMA IF EXISTS bryantsev CASCADE;\n",
        "    CREATE SCHEMA bryantsev;\n",
        "\"\"\"\n",
        "# выполнение запроса\n",
        "EXECUTE(create_schema, conn_info)"
      ],
      "metadata": {
        "id": "4r1NIIP5o-YV"
      },
      "execution_count": 52,
      "outputs": []
    },
    {
      "cell_type": "code",
      "source": [
        "# Создание таблицы в схеме\n",
        "\n",
        "create_table = \"\"\"\n",
        "DROP TABLE IF EXISTS bryantsev.open_meteo;\n",
        "CREATE TABLE bryantsev.open_meteo(\n",
        "    obs_ts TIMESTAMP(0) NOT NULL,\n",
        "    timezone VARCHAR(50) NOT NULL,\n",
        "    location VARCHAR(50) NOT NULL,\n",
        "    temperature DOUBLE PRECISION,\n",
        "    rain DOUBLE PRECISION,\n",
        "    pg_updated_at DATE DEFAULT CURRENT_DATE,\n",
        "    data_source VARCHAR(50) DEFAULT 'api.open-meteo.com',\n",
        "    api_updated_at TIMESTAMP,\n",
        "\n",
        "    -- Первичный ключ по паре (obs_ts, timezone, location)\n",
        "    CONSTRAINT pk_open_meteo PRIMARY KEY (obs_ts, timezone, location),\n",
        "\n",
        "    -- Ограничения\n",
        "    CONSTRAINT valid_temperature_range CHECK (temperature >= -100 AND temperature <= 100),\n",
        "    CONSTRAINT non_negative_rain CHECK (rain >= 0)\n",
        ");\n",
        "\n",
        "-- Создание индекса\n",
        "CREATE UNIQUE INDEX uidx_weather_obs_ts_timezone_location\n",
        "    ON bryantsev.open_meteo (obs_ts, timezone, location);\n",
        "\"\"\"\n",
        "# выполнение запросов\n",
        "EXECUTE(create_table, conn_info)"
      ],
      "metadata": {
        "id": "nHqFWXJ4o7SN"
      },
      "execution_count": 53,
      "outputs": []
    },
    {
      "cell_type": "markdown",
      "source": [
        "# Загрузка данных"
      ],
      "metadata": {
        "id": "YWbeB7HM2zGn"
      }
    },
    {
      "cell_type": "code",
      "source": [
        "# Импорт библиотек\n",
        "import pandas as pd\n",
        "import requests\n",
        "from datetime import datetime\n",
        "import json"
      ],
      "metadata": {
        "id": "8CVMc_q09z9S"
      },
      "execution_count": 54,
      "outputs": []
    },
    {
      "cell_type": "code",
      "source": [
        "# Настройки API\n",
        "API_URL = \"https://api.open-meteo.com/v1/forecast\"\n",
        "\n",
        "# Список локаций с координатами (широта, долгота)\n",
        "CITIES = {\n",
        "    \"Москва\": (55.7558, 37.6173),\n",
        "    \"Санкт-Петербург\": (59.9343, 30.3351),\n",
        "    \"Екатеринбург\": (56.8389, 60.6057),\n",
        "    \"Казань\": (55.7963, 49.1084),\n",
        "}\n",
        "\n",
        "# Диапазон дат для получения данных\n",
        "START_DATE = \"2025-07-01\"\n",
        "END_DATE = \"2025-07-01\"\n",
        "\n",
        "# Таймзона\n",
        "timezone = \"Asia/Yekaterinburg\""
      ],
      "metadata": {
        "id": "yeJUPdZl92QY"
      },
      "execution_count": 55,
      "outputs": []
    },
    {
      "cell_type": "code",
      "source": [
        "# ====== 1. Функция получения данных ======\n",
        "def fetch_weather_data():\n",
        "    \"\"\"Retrieve weather data from API and transform into database-ready format\"\"\"\n",
        "    weather_data = []\n",
        "\n",
        "    for location, (lat, lon) in CITIES.items():\n",
        "        params = {\n",
        "                \"latitude\": lat,\n",
        "                \"longitude\": lon,\n",
        "                \"hourly\": [\"temperature_2m\", \"rain\"],\n",
        "                \"start_date\": START_DATE,\n",
        "                \"end_date\": END_DATE,\n",
        "                \"timezone\": timezone\n",
        "            }\n",
        "\n",
        "        try:\n",
        "            response = requests.get(API_URL, params=params, timeout=10)\n",
        "            response.raise_for_status()\n",
        "            data = response.json()\n",
        "\n",
        "            for i, ts in enumerate(data[\"hourly\"][\"time\"]):\n",
        "                weather_data.append({\n",
        "                    \"obs_ts\": datetime.strptime(ts, '%Y-%m-%dT%H:%M'),\n",
        "                    \"timezone\": timezone,\n",
        "                    \"location\": location,\n",
        "                    \"temperature\": data[\"hourly\"][\"temperature_2m\"][i],\n",
        "                    \"rain\": data[\"hourly\"][\"rain\"][i],\n",
        "                    \"api_updated_at\": datetime.now()\n",
        "                })\n",
        "\n",
        "        except requests.exceptions.RequestException as e:\n",
        "            print(f\"Ошибка для города {location}: {e}\")\n",
        "            continue\n",
        "\n",
        "    return weather_data"
      ],
      "metadata": {
        "id": "R69MMGWS9-EQ"
      },
      "execution_count": 56,
      "outputs": []
    },
    {
      "cell_type": "code",
      "source": [
        "# ====== 2. Функция загрузки в PostgreSQL ======\n",
        "def upload_to_postgres(data):\n",
        "    \"\"\"Загрузка данных в PostgreSQL с обработкой конфликтов\"\"\"\n",
        "    conn = Postgres(conn_info)\n",
        "    try:\n",
        "        with conn._conn.cursor() as cur:\n",
        "            for record in data:\n",
        "                cur.execute(\"\"\"\n",
        "                    INSERT INTO bryantsev.open_meteo (obs_ts, timezone, location, temperature, rain, api_updated_at)\n",
        "                    VALUES (%(obs_ts)s, %(timezone)s, %(location)s, %(temperature)s, %(rain)s, %(api_updated_at)s)\n",
        "                    ON CONFLICT (obs_ts, timezone, location) DO UPDATE SET\n",
        "                        temperature = EXCLUDED.temperature,\n",
        "                        rain = EXCLUDED.rain,\n",
        "                        api_updated_at = EXCLUDED.api_updated_at\n",
        "                \"\"\", record)\n",
        "        conn._conn.commit()\n",
        "        print(f\"Успешно загружено {len(data)} записей\")\n",
        "\n",
        "    except Exception as e:\n",
        "        print(f\"Ошибка загрузки: {e}\")\n",
        "        conn._conn.rollback()\n",
        "    finally:\n",
        "        conn.close()"
      ],
      "metadata": {
        "id": "9UadWkZM-WXI"
      },
      "execution_count": 57,
      "outputs": []
    },
    {
      "cell_type": "code",
      "source": [
        "# ====== 3. Запуск процесса ======\n",
        "# Получаем данные\n",
        "weather_data = fetch_weather_data()\n",
        "\n",
        "# Загружаем в БД\n",
        "if weather_data:\n",
        "    upload_to_postgres(weather_data)"
      ],
      "metadata": {
        "colab": {
          "base_uri": "https://localhost:8080/"
        },
        "id": "z3W2bUpXB0J5",
        "outputId": "c5c161df-505d-4c0a-ec7a-248870e4058c"
      },
      "execution_count": 58,
      "outputs": [
        {
          "output_type": "stream",
          "name": "stdout",
          "text": [
            "Успешно загружено 96 записей\n"
          ]
        }
      ]
    }
  ]
}