{
  "nbformat": 4,
  "nbformat_minor": 0,
  "metadata": {
    "colab": {
      "provenance": [],
      "include_colab_link": true
    },
    "kernelspec": {
      "name": "python3",
      "display_name": "Python 3"
    },
    "language_info": {
      "name": "python"
    }
  },
  "cells": [
    {
      "cell_type": "markdown",
      "metadata": {
        "id": "view-in-github",
        "colab_type": "text"
      },
      "source": [
        "<a href=\"https://colab.research.google.com/github/bryancev/Bootcamp_DE/blob/main/python_1.ipynb\" target=\"_parent\"><img src=\"https://colab.research.google.com/assets/colab-badge.svg\" alt=\"Open In Colab\"/></a>"
      ]
    },
    {
      "cell_type": "code",
      "execution_count": null,
      "metadata": {
        "id": "EUXzXyh8D_Ve"
      },
      "outputs": [],
      "source": [
        "Задание 1 (Проверка валидности пароля)\n",
        "\n",
        "Напиши условие, которое проверяет пароль по следующим условиям:\n",
        "\n",
        "- Длина от 8 до 20 символов;\n",
        "- Есть хотя бы одна буква;\n",
        "- Есть хотя бы одна цифра;\n",
        "- Не начинается с цифры;\n",
        "- Нет пробелов."
      ]
    },
    {
      "cell_type": "code",
      "source": [
        "passwords = [\"Fk2r4snrU#\", \"12345\"]\n",
        "\n",
        "for password in passwords:\n",
        "    if password:\n",
        "        print(\"Пароль валиден\")\n",
        "    else:\n",
        "        print(\"Пароль невалиден\")"
      ],
      "metadata": {
        "id": "Qv1_Gz8AEDky"
      },
      "execution_count": null,
      "outputs": []
    },
    {
      "cell_type": "code",
      "source": [
        "2. Найти слова, начинающиеся или заканчивающиеся на букву. Вывести список этих слов."
      ],
      "metadata": {
        "id": "BH_pWMoiEIW3"
      },
      "execution_count": null,
      "outputs": []
    },
    {
      "cell_type": "code",
      "source": [
        "text = \"Анна купила арбуз, а потом абрикос и банан\"\n",
        "letter = \"а\"\n",
        "\n",
        "result = []\n",
        "\n",
        "print(result)"
      ],
      "metadata": {
        "id": "sO82f9WLEN-P"
      },
      "execution_count": null,
      "outputs": []
    },
    {
      "cell_type": "code",
      "source": [
        "3. Разделение чётных и нечётных чисел. Вывести четные числа и нечетные числа без дубликатов"
      ],
      "metadata": {
        "id": "a7F7FaXBFeza"
      },
      "execution_count": null,
      "outputs": []
    },
    {
      "cell_type": "code",
      "source": [
        "nums = [1, 2, 3, 4, 5, 6, 2, 8, 3, 11, 1, 13, 5]\n",
        "\n",
        "# even_set =\n",
        "# odd_set =\n",
        "\n",
        "\n",
        "# print(\"Чётные:\", even_set)\n",
        "# print(\"Нечётные:\", odd_set)"
      ],
      "metadata": {
        "id": "u8A9OS4THSRX"
      },
      "execution_count": null,
      "outputs": []
    },
    {
      "cell_type": "code",
      "source": [
        "4. Вывести все имена людей, у кого возраст больше 18 лет в формате списка"
      ],
      "metadata": {
        "id": "_a5WncTVIgBZ"
      },
      "execution_count": null,
      "outputs": []
    },
    {
      "cell_type": "code",
      "source": [
        "people = [(\"Аня\", 20), (\"Борис\", 17), (\"Вика\", 25), (\"Глеб\", 15)]\n",
        "\n",
        "adults = []\n",
        "\n",
        "print(\"Взрослые:\", adults)"
      ],
      "metadata": {
        "id": "mDFXE27_IfcL"
      },
      "execution_count": null,
      "outputs": []
    }
  ]
}